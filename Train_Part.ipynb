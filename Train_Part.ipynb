{
 "cells": [
  {
   "cell_type": "code",
   "execution_count": 15,
   "metadata": {},
   "outputs": [],
   "source": [
    "import warnings\n",
    "warnings.filterwarnings('ignore')"
   ]
  },
  {
   "cell_type": "code",
   "execution_count": 16,
   "metadata": {},
   "outputs": [],
   "source": [
    "import tensorflow as tf\n",
    "import numpy as np\n",
    "import matplotlib.pyplot as plt\n",
    "from tensorflow.keras.models import Model\n",
    "from tensorflow.keras import backend as K\n",
    "from tensorflow.keras import datasets, layers, models\n",
    "import pickle"
   ]
  },
  {
   "cell_type": "code",
   "execution_count": 17,
   "metadata": {},
   "outputs": [
    {
     "name": "stdout",
     "output_type": "stream",
     "text": [
      "2.1.0\n"
     ]
    }
   ],
   "source": [
    "# Check that TF 2.1.0 is in use\n",
    "print(tf.__version__)"
   ]
  },
  {
   "cell_type": "code",
   "execution_count": 18,
   "metadata": {},
   "outputs": [],
   "source": [
    "def trainmodel():\n",
    "    inputt = layers.Input((128,128,1))\n",
    "    conv1 = layers.Conv2D(filters=16, kernel_size=(3, 3), activation = 'relu', padding = 'same', kernel_initializer = 'he_normal')(inputt)\n",
    "    #conv1 = layers.LeakyReLU()(conv1)\n",
    "    conv2 = layers.Conv2D(filters=16, kernel_size=(3, 3), activation = 'relu', padding = 'same', kernel_initializer = 'he_normal')(conv1)\n",
    "    #conv1 = layers.LeakyReLU()(conv1)\n",
    "    pool1 = layers.MaxPooling2D(pool_size=(2, 2), strides=None, padding='valid', data_format=None)(conv2)\n",
    "    conv3 = layers.Conv2D(filters=32, kernel_size=(3, 3), activation = 'relu', padding = 'same', kernel_initializer = 'he_normal')(pool1)\n",
    "    #conv2 = layers.LeakyReLU()(conv2)\n",
    "    conv4 = layers.Conv2D(filters=32, kernel_size=(3, 3), activation = 'relu', padding = 'same', kernel_initializer = 'he_normal')(conv3)\n",
    "    #conv2 = layers.LeakyReLU()(conv2)\n",
    "    pool2 = layers.MaxPooling2D(pool_size=(2, 2), strides=None, padding='valid', data_format=None)(conv4)\n",
    "    conv5 = layers.Conv2D(filters=64, kernel_size=(3, 3), activation = 'relu', padding = 'same', kernel_initializer = 'he_normal')(pool2)\n",
    "    #conv3 = layers.LeakyReLU()(conv3)\n",
    "    conv6 = layers.Conv2D(filters=64, kernel_size=(3, 3), activation = 'relu', padding = 'same', kernel_initializer = 'he_normal')(conv5)\n",
    "    #conv3 = layers.LeakyReLU()(conv3)\n",
    "    pool3 = layers.MaxPooling2D(pool_size=(2, 2), strides=None, padding='valid', data_format=None)(conv6)\n",
    "    conv7 = layers.Conv2D(filters=128, kernel_size=(3, 3), activation = 'relu', padding = 'same', kernel_initializer = 'he_normal')(pool3)\n",
    "    #conv4 = layers.LeakyReLU()(conv4)\n",
    "    conv8 = layers.Conv2D(filters=128, kernel_size=(3, 3), activation = 'relu', padding = 'same', kernel_initializer = 'he_normal')(conv7)\n",
    "    #conv4 = layers.LeakyReLU()(conv4)\n",
    "    drop1 = layers.Dropout(0.5)(conv8)\n",
    "    pool4 = layers.MaxPooling2D(pool_size=(2, 2), strides=None, padding='valid', data_format=None)(drop1)\n",
    "\n",
    "    conv9 = layers.Conv2D(filters=256, kernel_size=(3, 3), activation = 'relu', padding = 'same', kernel_initializer = 'he_normal')(pool4)\n",
    "    #conv5 = layers.LeakyReLU()(conv5)\n",
    "    conv10 = layers.Conv2D(filters=256, kernel_size=(3, 3), activation = 'relu', padding = 'same', kernel_initializer = 'he_normal')(conv9)\n",
    "    #conv5 = layers.LeakyReLU()(conv5)\n",
    "    drop2 = layers.Dropout(0.5)(conv10)\n",
    "    \n",
    "    up1 = layers.UpSampling2D(size = (2, 2), data_format=None)(drop2)\n",
    "    conv11 = layers.Conv2D(filters=128, kernel_size=(2, 2), activation = 'relu', padding = 'same', kernel_initializer = 'he_normal')(up1)\n",
    "    #up6 = layers.LeakyReLU()(up6)\n",
    "    merge1 = layers.concatenate([drop1,conv11], axis = 3)\n",
    "    conv12 = layers.Conv2D(filters=128, kernel_size=(3, 3), activation = 'relu', padding = 'same', kernel_initializer = 'he_normal')(merge1)\n",
    "    #conv6 = layers.LeakyReLU()(conv6)\n",
    "    conv13 = layers.Conv2D(filters=128, kernel_size=(3, 3), activation = 'relu', padding = 'same', kernel_initializer = 'he_normal')(conv12)\n",
    "    #conv6 = layers.LeakyReLU()(conv6)\n",
    "    up2 = layers.UpSampling2D(size = (2, 2), data_format=None)(conv13)\n",
    "    conv14 = layers.Conv2D(filters=64, kernel_size=(2, 2), activation = 'relu', padding = 'same', kernel_initializer = 'he_normal')(up2)\n",
    "    #up7 = layers.LeakyReLU()(up7)\n",
    "    merge2 = layers.concatenate([conv6,conv14], axis = 3)\n",
    "    conv15 = layers.Conv2D(filters=64, kernel_size=(3, 3), activation = 'relu', padding = 'same', kernel_initializer = 'he_normal')(merge2)\n",
    "    #conv7 = layers.LeakyReLU()(conv7)\n",
    "    conv16 = layers.Conv2D(filters=64, kernel_size=(3, 3), activation = 'relu', padding = 'same', kernel_initializer = 'he_normal')(conv15)\n",
    "    #conv7 = layers.LeakyReLU()(conv7)\n",
    "    up3 = layers.UpSampling2D(size = (2, 2), data_format=None)(conv16)\n",
    "    conv17 = layers.Conv2D(filters=32, kernel_size=(2, 2), activation = 'relu', padding = 'same', kernel_initializer = 'he_normal')(up3)\n",
    "    #up8 = layers.LeakyReLU()(up8)\n",
    "    merge3 = layers.concatenate([conv4,conv17], axis = 3)\n",
    "    conv18 = layers.Conv2D(filters=32, kernel_size=(3, 3), activation = 'relu', padding = 'same', kernel_initializer = 'he_normal')(merge3)\n",
    "    #conv8 = layers.LeakyReLU()(conv8)\n",
    "    conv19 = layers.Conv2D(filters=32, kernel_size=(3, 3), activation = 'relu', padding = 'same', kernel_initializer = 'he_normal')(conv18)\n",
    "    #conv8 = layers.LeakyReLU()(conv8)\n",
    "\n",
    "    up4 = layers.UpSampling2D(size = (2, 2), data_format=None)(conv19)\n",
    "    conv20 = layers.Conv2D(filters=16, kernel_size=(2, 2), activation = 'relu', padding = 'same', kernel_initializer = 'he_normal')(up4)\n",
    "    #up9 = layers.LeakyReLU()(up9)\n",
    "    merge4 = layers.concatenate([conv2,conv20], axis = 3)\n",
    "    conv21 = layers.Conv2D(filters=16, kernel_size=(3, 3), activation = 'relu', padding = 'same', kernel_initializer = 'he_normal')(merge4)\n",
    "    #conv9 = layers.LeakyReLU()(conv9)\n",
    "    conv22 = layers.Conv2D(filters=16, kernel_size=(3, 3), activation = 'relu', padding = 'same', kernel_initializer = 'he_normal')(conv21)\n",
    "    #conv9 = layers.LeakyReLU()(conv9)\n",
    "    conv23 = layers.Conv2D(filters=2, kernel_size=(3, 3), activation = 'relu', padding = 'same', kernel_initializer = 'he_normal')(conv22)\n",
    "    #conv9 = layers.LeakyReLU()(conv9)\n",
    "    output = layers.Conv2D(filters=1, kernel_size=(1, 1), activation = 'tanh')(conv23)\n",
    "\n",
    "    model = Model(inputt,output)\n",
    "\n",
    "    model.compile(optimizer = 'adam', loss = tf.keras.losses.Huber(), metrics = ['mae'])\n",
    "\n",
    "    model.summary()\n",
    "    return model"
   ]
  },
  {
   "cell_type": "code",
   "execution_count": 19,
   "metadata": {},
   "outputs": [],
   "source": [
    "import matplotlib.pyplot as plt\n",
    "import numpy as np\n",
    "from sklearn.model_selection import train_test_split"
   ]
  },
  {
   "cell_type": "code",
   "execution_count": 20,
   "metadata": {},
   "outputs": [],
   "source": [
    "def train(path_save_spectrogram, weights_path, name_model, training_from_scratch, epoch, batch_size):\n",
    "\n",
    "    noisy_voice = np.load(path_save_spectrogram +'noisy_voice_amp_db'+\".npy\")\n",
    "    clean_voice = np.load(path_save_spectrogram +'voice_amp_db'+\".npy\")\n",
    "    \n",
    "    # Simply present the noise as noisyvoice-cleanvoice\n",
    "    noise = noisy_voice - clean_voice\n",
    "\n",
    "    # Normalize the data to [-1, 1]\n",
    "    noisy_voice = (noisy_voice+46)/50\n",
    "    noise = (noise-6)/82\n",
    "\n",
    "    # Reshape\n",
    "    noisy_voice = noisy_voice[:,:,:]\n",
    "    noisy_voice = noisy_voice.reshape(noisy_voice.shape[0],noisy_voice.shape[1],noisy_voice.shape[2],1)\n",
    "    noise = noise[:,:,:]\n",
    "    noise = noise.reshape(noise.shape[0],noise.shape[1],noise.shape[2],1)\n",
    "\n",
    "    # Split the data. The sample proportion is 0.1. Set the random seed=1 to make sure we get the same data each time\n",
    "    X_train, X_test, Y_train, Y_test = train_test_split(noisy_voice, noise, test_size=0.10, random_state=1)\n",
    "\n",
    "    model=trainmodel()\n",
    "\n",
    "    # Training\n",
    "    history = model.fit(X_train, \n",
    "                        Y_train, \n",
    "                        epochs=epoch, \n",
    "                        batch_size=batch_size, \n",
    "                        validation_data=(X_test, Y_test), \n",
    "                        shuffle=True, \n",
    "                        verbose=1)\n",
    "\n",
    "    # Plot accuracy vs epoch\n",
    "    plt.figure(figsize=(15, 5))\n",
    "    plt.subplot(121)\n",
    "    plt.plot(history.history['accuracy'])\n",
    "    plt.plot(history.history['val_accuracy'])\n",
    "    plt.title('Model Accuracy')\n",
    "    plt.ylabel('accuracy')\n",
    "    plt.xlabel('Epoch')\n",
    "    plt.legend(['Train', 'Test'], loc='lower right',prop={'size':13})\n",
    "\n",
    "    # Plot loss vs epoch\n",
    "    plt.subplot(122)\n",
    "    plt.plot(history.history['loss'])\n",
    "    plt.plot(history.history['val_loss'])\n",
    "    plt.title('Model Loss')\n",
    "    plt.ylabel('loss')\n",
    "    plt.xlabel('Epoch')\n",
    "    plt.legend(['Train', 'Test'], loc='upper right',prop={'size':13})\n",
    "    plt.savefig(\"Accuracy&Loss.png\")\n",
    "    plt.show()"
   ]
  },
  {
   "cell_type": "code",
   "execution_count": null,
   "metadata": {},
   "outputs": [],
   "source": []
  }
 ],
 "metadata": {
  "kernelspec": {
   "display_name": "Python 3",
   "language": "python",
   "name": "python3"
  },
  "language_info": {
   "codemirror_mode": {
    "name": "ipython",
    "version": 3
   },
   "file_extension": ".py",
   "mimetype": "text/x-python",
   "name": "python",
   "nbconvert_exporter": "python",
   "pygments_lexer": "ipython3",
   "version": "3.7.4"
  }
 },
 "nbformat": 4,
 "nbformat_minor": 2
}
